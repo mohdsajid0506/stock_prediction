{
  "nbformat": 4,
  "nbformat_minor": 0,
  "metadata": {
    "colab": {
      "provenance": [],
      "authorship_tag": "ABX9TyOWDR90EQHWE96ZZgtojt1t",
      "include_colab_link": true
    },
    "kernelspec": {
      "name": "python3",
      "display_name": "Python 3"
    },
    "language_info": {
      "name": "python"
    }
  },
  "cells": [
    {
      "cell_type": "markdown",
      "metadata": {
        "id": "view-in-github",
        "colab_type": "text"
      },
      "source": [
        "<a href=\"https://colab.research.google.com/github/mohdsajid0506/stock_prediction/blob/main/Untitled5.ipynb\" target=\"_parent\"><img src=\"https://colab.research.google.com/assets/colab-badge.svg\" alt=\"Open In Colab\"/></a>"
      ]
    },
    {
      "cell_type": "code",
      "execution_count": 5,
      "metadata": {
        "id": "YAoeM8YE-RRi"
      },
      "outputs": [],
      "source": [
        "import pandas as pd\n",
        "import matplotlib.pyplot as plt\n",
        "import numpy as np\n",
        "import math\n",
        "import tensorflow as tf\n",
        "from numpy import array\n",
        "from tensorflow.keras.models import Sequential\n",
        "from tensorflow.keras.layers import LSTM, Dense, Dropout\n",
        "from sklearn.preprocessing import MinMaxScaler\n",
        "from sklearn.metrics import mean_squared_error"
      ]
    },
    {
      "cell_type": "code",
      "source": [
        "df = pd.read_csv('//content/BTC-USD.csv', index_col=\"Date\", infer_datetime_format=True, parse_dates=True)\n",
        "df.head(5)"
      ],
      "metadata": {
        "colab": {
          "base_uri": "https://localhost:8080/",
          "height": 237
        },
        "id": "2hVCX8gKD3bI",
        "outputId": "7464dec7-cb65-4db7-9d91-1fec4e767e25"
      },
      "execution_count": 6,
      "outputs": [
        {
          "output_type": "execute_result",
          "data": {
            "text/plain": [
              "                   Open         High          Low        Close    Adj Close  \\\n",
              "Date                                                                          \n",
              "2019-12-09  7561.795410  7618.091797  7365.985352  7400.899414  7400.899414   \n",
              "2019-12-10  7397.134277  7424.022949  7246.043945  7278.119629  7278.119629   \n",
              "2019-12-11  7277.197754  7324.156250  7195.527344  7217.427246  7217.427246   \n",
              "2019-12-12  7216.738770  7266.639648  7164.741211  7243.134277  7243.134277   \n",
              "2019-12-13  7244.662109  7293.560547  7227.122559  7269.684570  7269.684570   \n",
              "\n",
              "                 Volume  \n",
              "Date                     \n",
              "2019-12-09  17872021272  \n",
              "2019-12-10  18249031194  \n",
              "2019-12-11  16350490689  \n",
              "2019-12-12  18927080224  \n",
              "2019-12-13  17125736940  "
            ],
            "text/html": [
              "\n",
              "  <div id=\"df-1e134f18-960c-494c-b8ed-4de5828b5d03\" class=\"colab-df-container\">\n",
              "    <div>\n",
              "<style scoped>\n",
              "    .dataframe tbody tr th:only-of-type {\n",
              "        vertical-align: middle;\n",
              "    }\n",
              "\n",
              "    .dataframe tbody tr th {\n",
              "        vertical-align: top;\n",
              "    }\n",
              "\n",
              "    .dataframe thead th {\n",
              "        text-align: right;\n",
              "    }\n",
              "</style>\n",
              "<table border=\"1\" class=\"dataframe\">\n",
              "  <thead>\n",
              "    <tr style=\"text-align: right;\">\n",
              "      <th></th>\n",
              "      <th>Open</th>\n",
              "      <th>High</th>\n",
              "      <th>Low</th>\n",
              "      <th>Close</th>\n",
              "      <th>Adj Close</th>\n",
              "      <th>Volume</th>\n",
              "    </tr>\n",
              "    <tr>\n",
              "      <th>Date</th>\n",
              "      <th></th>\n",
              "      <th></th>\n",
              "      <th></th>\n",
              "      <th></th>\n",
              "      <th></th>\n",
              "      <th></th>\n",
              "    </tr>\n",
              "  </thead>\n",
              "  <tbody>\n",
              "    <tr>\n",
              "      <th>2019-12-09</th>\n",
              "      <td>7561.795410</td>\n",
              "      <td>7618.091797</td>\n",
              "      <td>7365.985352</td>\n",
              "      <td>7400.899414</td>\n",
              "      <td>7400.899414</td>\n",
              "      <td>17872021272</td>\n",
              "    </tr>\n",
              "    <tr>\n",
              "      <th>2019-12-10</th>\n",
              "      <td>7397.134277</td>\n",
              "      <td>7424.022949</td>\n",
              "      <td>7246.043945</td>\n",
              "      <td>7278.119629</td>\n",
              "      <td>7278.119629</td>\n",
              "      <td>18249031194</td>\n",
              "    </tr>\n",
              "    <tr>\n",
              "      <th>2019-12-11</th>\n",
              "      <td>7277.197754</td>\n",
              "      <td>7324.156250</td>\n",
              "      <td>7195.527344</td>\n",
              "      <td>7217.427246</td>\n",
              "      <td>7217.427246</td>\n",
              "      <td>16350490689</td>\n",
              "    </tr>\n",
              "    <tr>\n",
              "      <th>2019-12-12</th>\n",
              "      <td>7216.738770</td>\n",
              "      <td>7266.639648</td>\n",
              "      <td>7164.741211</td>\n",
              "      <td>7243.134277</td>\n",
              "      <td>7243.134277</td>\n",
              "      <td>18927080224</td>\n",
              "    </tr>\n",
              "    <tr>\n",
              "      <th>2019-12-13</th>\n",
              "      <td>7244.662109</td>\n",
              "      <td>7293.560547</td>\n",
              "      <td>7227.122559</td>\n",
              "      <td>7269.684570</td>\n",
              "      <td>7269.684570</td>\n",
              "      <td>17125736940</td>\n",
              "    </tr>\n",
              "  </tbody>\n",
              "</table>\n",
              "</div>\n",
              "    <div class=\"colab-df-buttons\">\n",
              "\n",
              "  <div class=\"colab-df-container\">\n",
              "    <button class=\"colab-df-convert\" onclick=\"convertToInteractive('df-1e134f18-960c-494c-b8ed-4de5828b5d03')\"\n",
              "            title=\"Convert this dataframe to an interactive table.\"\n",
              "            style=\"display:none;\">\n",
              "\n",
              "  <svg xmlns=\"http://www.w3.org/2000/svg\" height=\"24px\" viewBox=\"0 -960 960 960\">\n",
              "    <path d=\"M120-120v-720h720v720H120Zm60-500h600v-160H180v160Zm220 220h160v-160H400v160Zm0 220h160v-160H400v160ZM180-400h160v-160H180v160Zm440 0h160v-160H620v160ZM180-180h160v-160H180v160Zm440 0h160v-160H620v160Z\"/>\n",
              "  </svg>\n",
              "    </button>\n",
              "\n",
              "  <style>\n",
              "    .colab-df-container {\n",
              "      display:flex;\n",
              "      gap: 12px;\n",
              "    }\n",
              "\n",
              "    .colab-df-convert {\n",
              "      background-color: #E8F0FE;\n",
              "      border: none;\n",
              "      border-radius: 50%;\n",
              "      cursor: pointer;\n",
              "      display: none;\n",
              "      fill: #1967D2;\n",
              "      height: 32px;\n",
              "      padding: 0 0 0 0;\n",
              "      width: 32px;\n",
              "    }\n",
              "\n",
              "    .colab-df-convert:hover {\n",
              "      background-color: #E2EBFA;\n",
              "      box-shadow: 0px 1px 2px rgba(60, 64, 67, 0.3), 0px 1px 3px 1px rgba(60, 64, 67, 0.15);\n",
              "      fill: #174EA6;\n",
              "    }\n",
              "\n",
              "    .colab-df-buttons div {\n",
              "      margin-bottom: 4px;\n",
              "    }\n",
              "\n",
              "    [theme=dark] .colab-df-convert {\n",
              "      background-color: #3B4455;\n",
              "      fill: #D2E3FC;\n",
              "    }\n",
              "\n",
              "    [theme=dark] .colab-df-convert:hover {\n",
              "      background-color: #434B5C;\n",
              "      box-shadow: 0px 1px 3px 1px rgba(0, 0, 0, 0.15);\n",
              "      filter: drop-shadow(0px 1px 2px rgba(0, 0, 0, 0.3));\n",
              "      fill: #FFFFFF;\n",
              "    }\n",
              "  </style>\n",
              "\n",
              "    <script>\n",
              "      const buttonEl =\n",
              "        document.querySelector('#df-1e134f18-960c-494c-b8ed-4de5828b5d03 button.colab-df-convert');\n",
              "      buttonEl.style.display =\n",
              "        google.colab.kernel.accessAllowed ? 'block' : 'none';\n",
              "\n",
              "      async function convertToInteractive(key) {\n",
              "        const element = document.querySelector('#df-1e134f18-960c-494c-b8ed-4de5828b5d03');\n",
              "        const dataTable =\n",
              "          await google.colab.kernel.invokeFunction('convertToInteractive',\n",
              "                                                    [key], {});\n",
              "        if (!dataTable) return;\n",
              "\n",
              "        const docLinkHtml = 'Like what you see? Visit the ' +\n",
              "          '<a target=\"_blank\" href=https://colab.research.google.com/notebooks/data_table.ipynb>data table notebook</a>'\n",
              "          + ' to learn more about interactive tables.';\n",
              "        element.innerHTML = '';\n",
              "        dataTable['output_type'] = 'display_data';\n",
              "        await google.colab.output.renderOutput(dataTable, element);\n",
              "        const docLink = document.createElement('div');\n",
              "        docLink.innerHTML = docLinkHtml;\n",
              "        element.appendChild(docLink);\n",
              "      }\n",
              "    </script>\n",
              "  </div>\n",
              "\n",
              "\n",
              "<div id=\"df-ace75a9c-2eac-4b7e-aeb0-9e26b2f25ec5\">\n",
              "  <button class=\"colab-df-quickchart\" onclick=\"quickchart('df-ace75a9c-2eac-4b7e-aeb0-9e26b2f25ec5')\"\n",
              "            title=\"Suggest charts.\"\n",
              "            style=\"display:none;\">\n",
              "\n",
              "<svg xmlns=\"http://www.w3.org/2000/svg\" height=\"24px\"viewBox=\"0 0 24 24\"\n",
              "     width=\"24px\">\n",
              "    <g>\n",
              "        <path d=\"M19 3H5c-1.1 0-2 .9-2 2v14c0 1.1.9 2 2 2h14c1.1 0 2-.9 2-2V5c0-1.1-.9-2-2-2zM9 17H7v-7h2v7zm4 0h-2V7h2v10zm4 0h-2v-4h2v4z\"/>\n",
              "    </g>\n",
              "</svg>\n",
              "  </button>\n",
              "\n",
              "<style>\n",
              "  .colab-df-quickchart {\n",
              "    background-color: #E8F0FE;\n",
              "    border: none;\n",
              "    border-radius: 50%;\n",
              "    cursor: pointer;\n",
              "    display: none;\n",
              "    fill: #1967D2;\n",
              "    height: 32px;\n",
              "    padding: 0 0 0 0;\n",
              "    width: 32px;\n",
              "  }\n",
              "\n",
              "  .colab-df-quickchart:hover {\n",
              "    background-color: #E2EBFA;\n",
              "    box-shadow: 0px 1px 2px rgba(60, 64, 67, 0.3), 0px 1px 3px 1px rgba(60, 64, 67, 0.15);\n",
              "    fill: #174EA6;\n",
              "  }\n",
              "\n",
              "  [theme=dark] .colab-df-quickchart {\n",
              "    background-color: #3B4455;\n",
              "    fill: #D2E3FC;\n",
              "  }\n",
              "\n",
              "  [theme=dark] .colab-df-quickchart:hover {\n",
              "    background-color: #434B5C;\n",
              "    box-shadow: 0px 1px 3px 1px rgba(0, 0, 0, 0.15);\n",
              "    filter: drop-shadow(0px 1px 2px rgba(0, 0, 0, 0.3));\n",
              "    fill: #FFFFFF;\n",
              "  }\n",
              "</style>\n",
              "\n",
              "  <script>\n",
              "    async function quickchart(key) {\n",
              "      const charts = await google.colab.kernel.invokeFunction(\n",
              "          'suggestCharts', [key], {});\n",
              "    }\n",
              "    (() => {\n",
              "      let quickchartButtonEl =\n",
              "        document.querySelector('#df-ace75a9c-2eac-4b7e-aeb0-9e26b2f25ec5 button');\n",
              "      quickchartButtonEl.style.display =\n",
              "        google.colab.kernel.accessAllowed ? 'block' : 'none';\n",
              "    })();\n",
              "  </script>\n",
              "</div>\n",
              "    </div>\n",
              "  </div>\n"
            ]
          },
          "metadata": {},
          "execution_count": 6
        }
      ]
    },
    {
      "cell_type": "code",
      "source": [
        "df = df.drop(['High','Low','Adj Close','Volume','Close'], axis=1)\n",
        "df.head()"
      ],
      "metadata": {
        "colab": {
          "base_uri": "https://localhost:8080/",
          "height": 237
        },
        "id": "L_MrrUrEEQ8Z",
        "outputId": "0f21ff6c-9812-4047-ef17-8af6d9d4a7e4"
      },
      "execution_count": 7,
      "outputs": [
        {
          "output_type": "execute_result",
          "data": {
            "text/plain": [
              "                   Open\n",
              "Date                   \n",
              "2019-12-09  7561.795410\n",
              "2019-12-10  7397.134277\n",
              "2019-12-11  7277.197754\n",
              "2019-12-12  7216.738770\n",
              "2019-12-13  7244.662109"
            ],
            "text/html": [
              "\n",
              "  <div id=\"df-ed782070-0130-4d82-a3be-c928e541895e\" class=\"colab-df-container\">\n",
              "    <div>\n",
              "<style scoped>\n",
              "    .dataframe tbody tr th:only-of-type {\n",
              "        vertical-align: middle;\n",
              "    }\n",
              "\n",
              "    .dataframe tbody tr th {\n",
              "        vertical-align: top;\n",
              "    }\n",
              "\n",
              "    .dataframe thead th {\n",
              "        text-align: right;\n",
              "    }\n",
              "</style>\n",
              "<table border=\"1\" class=\"dataframe\">\n",
              "  <thead>\n",
              "    <tr style=\"text-align: right;\">\n",
              "      <th></th>\n",
              "      <th>Open</th>\n",
              "    </tr>\n",
              "    <tr>\n",
              "      <th>Date</th>\n",
              "      <th></th>\n",
              "    </tr>\n",
              "  </thead>\n",
              "  <tbody>\n",
              "    <tr>\n",
              "      <th>2019-12-09</th>\n",
              "      <td>7561.795410</td>\n",
              "    </tr>\n",
              "    <tr>\n",
              "      <th>2019-12-10</th>\n",
              "      <td>7397.134277</td>\n",
              "    </tr>\n",
              "    <tr>\n",
              "      <th>2019-12-11</th>\n",
              "      <td>7277.197754</td>\n",
              "    </tr>\n",
              "    <tr>\n",
              "      <th>2019-12-12</th>\n",
              "      <td>7216.738770</td>\n",
              "    </tr>\n",
              "    <tr>\n",
              "      <th>2019-12-13</th>\n",
              "      <td>7244.662109</td>\n",
              "    </tr>\n",
              "  </tbody>\n",
              "</table>\n",
              "</div>\n",
              "    <div class=\"colab-df-buttons\">\n",
              "\n",
              "  <div class=\"colab-df-container\">\n",
              "    <button class=\"colab-df-convert\" onclick=\"convertToInteractive('df-ed782070-0130-4d82-a3be-c928e541895e')\"\n",
              "            title=\"Convert this dataframe to an interactive table.\"\n",
              "            style=\"display:none;\">\n",
              "\n",
              "  <svg xmlns=\"http://www.w3.org/2000/svg\" height=\"24px\" viewBox=\"0 -960 960 960\">\n",
              "    <path d=\"M120-120v-720h720v720H120Zm60-500h600v-160H180v160Zm220 220h160v-160H400v160Zm0 220h160v-160H400v160ZM180-400h160v-160H180v160Zm440 0h160v-160H620v160ZM180-180h160v-160H180v160Zm440 0h160v-160H620v160Z\"/>\n",
              "  </svg>\n",
              "    </button>\n",
              "\n",
              "  <style>\n",
              "    .colab-df-container {\n",
              "      display:flex;\n",
              "      gap: 12px;\n",
              "    }\n",
              "\n",
              "    .colab-df-convert {\n",
              "      background-color: #E8F0FE;\n",
              "      border: none;\n",
              "      border-radius: 50%;\n",
              "      cursor: pointer;\n",
              "      display: none;\n",
              "      fill: #1967D2;\n",
              "      height: 32px;\n",
              "      padding: 0 0 0 0;\n",
              "      width: 32px;\n",
              "    }\n",
              "\n",
              "    .colab-df-convert:hover {\n",
              "      background-color: #E2EBFA;\n",
              "      box-shadow: 0px 1px 2px rgba(60, 64, 67, 0.3), 0px 1px 3px 1px rgba(60, 64, 67, 0.15);\n",
              "      fill: #174EA6;\n",
              "    }\n",
              "\n",
              "    .colab-df-buttons div {\n",
              "      margin-bottom: 4px;\n",
              "    }\n",
              "\n",
              "    [theme=dark] .colab-df-convert {\n",
              "      background-color: #3B4455;\n",
              "      fill: #D2E3FC;\n",
              "    }\n",
              "\n",
              "    [theme=dark] .colab-df-convert:hover {\n",
              "      background-color: #434B5C;\n",
              "      box-shadow: 0px 1px 3px 1px rgba(0, 0, 0, 0.15);\n",
              "      filter: drop-shadow(0px 1px 2px rgba(0, 0, 0, 0.3));\n",
              "      fill: #FFFFFF;\n",
              "    }\n",
              "  </style>\n",
              "\n",
              "    <script>\n",
              "      const buttonEl =\n",
              "        document.querySelector('#df-ed782070-0130-4d82-a3be-c928e541895e button.colab-df-convert');\n",
              "      buttonEl.style.display =\n",
              "        google.colab.kernel.accessAllowed ? 'block' : 'none';\n",
              "\n",
              "      async function convertToInteractive(key) {\n",
              "        const element = document.querySelector('#df-ed782070-0130-4d82-a3be-c928e541895e');\n",
              "        const dataTable =\n",
              "          await google.colab.kernel.invokeFunction('convertToInteractive',\n",
              "                                                    [key], {});\n",
              "        if (!dataTable) return;\n",
              "\n",
              "        const docLinkHtml = 'Like what you see? Visit the ' +\n",
              "          '<a target=\"_blank\" href=https://colab.research.google.com/notebooks/data_table.ipynb>data table notebook</a>'\n",
              "          + ' to learn more about interactive tables.';\n",
              "        element.innerHTML = '';\n",
              "        dataTable['output_type'] = 'display_data';\n",
              "        await google.colab.output.renderOutput(dataTable, element);\n",
              "        const docLink = document.createElement('div');\n",
              "        docLink.innerHTML = docLinkHtml;\n",
              "        element.appendChild(docLink);\n",
              "      }\n",
              "    </script>\n",
              "  </div>\n",
              "\n",
              "\n",
              "<div id=\"df-dcafb9e1-66ab-425e-802d-52a46032f70b\">\n",
              "  <button class=\"colab-df-quickchart\" onclick=\"quickchart('df-dcafb9e1-66ab-425e-802d-52a46032f70b')\"\n",
              "            title=\"Suggest charts.\"\n",
              "            style=\"display:none;\">\n",
              "\n",
              "<svg xmlns=\"http://www.w3.org/2000/svg\" height=\"24px\"viewBox=\"0 0 24 24\"\n",
              "     width=\"24px\">\n",
              "    <g>\n",
              "        <path d=\"M19 3H5c-1.1 0-2 .9-2 2v14c0 1.1.9 2 2 2h14c1.1 0 2-.9 2-2V5c0-1.1-.9-2-2-2zM9 17H7v-7h2v7zm4 0h-2V7h2v10zm4 0h-2v-4h2v4z\"/>\n",
              "    </g>\n",
              "</svg>\n",
              "  </button>\n",
              "\n",
              "<style>\n",
              "  .colab-df-quickchart {\n",
              "    background-color: #E8F0FE;\n",
              "    border: none;\n",
              "    border-radius: 50%;\n",
              "    cursor: pointer;\n",
              "    display: none;\n",
              "    fill: #1967D2;\n",
              "    height: 32px;\n",
              "    padding: 0 0 0 0;\n",
              "    width: 32px;\n",
              "  }\n",
              "\n",
              "  .colab-df-quickchart:hover {\n",
              "    background-color: #E2EBFA;\n",
              "    box-shadow: 0px 1px 2px rgba(60, 64, 67, 0.3), 0px 1px 3px 1px rgba(60, 64, 67, 0.15);\n",
              "    fill: #174EA6;\n",
              "  }\n",
              "\n",
              "  [theme=dark] .colab-df-quickchart {\n",
              "    background-color: #3B4455;\n",
              "    fill: #D2E3FC;\n",
              "  }\n",
              "\n",
              "  [theme=dark] .colab-df-quickchart:hover {\n",
              "    background-color: #434B5C;\n",
              "    box-shadow: 0px 1px 3px 1px rgba(0, 0, 0, 0.15);\n",
              "    filter: drop-shadow(0px 1px 2px rgba(0, 0, 0, 0.3));\n",
              "    fill: #FFFFFF;\n",
              "  }\n",
              "</style>\n",
              "\n",
              "  <script>\n",
              "    async function quickchart(key) {\n",
              "      const charts = await google.colab.kernel.invokeFunction(\n",
              "          'suggestCharts', [key], {});\n",
              "    }\n",
              "    (() => {\n",
              "      let quickchartButtonEl =\n",
              "        document.querySelector('#df-dcafb9e1-66ab-425e-802d-52a46032f70b button');\n",
              "      quickchartButtonEl.style.display =\n",
              "        google.colab.kernel.accessAllowed ? 'block' : 'none';\n",
              "    })();\n",
              "  </script>\n",
              "</div>\n",
              "    </div>\n",
              "  </div>\n"
            ]
          },
          "metadata": {},
          "execution_count": 7
        }
      ]
    },
    {
      "cell_type": "code",
      "source": [
        "dataset = df.values\n",
        "dataset = dataset.astype('float64')\n",
        "dataset[:5]"
      ],
      "metadata": {
        "colab": {
          "base_uri": "https://localhost:8080/"
        },
        "id": "1vqoly6IEXPn",
        "outputId": "5e58e88b-1f13-4d9a-b6a1-c76a60e7aa67"
      },
      "execution_count": 8,
      "outputs": [
        {
          "output_type": "execute_result",
          "data": {
            "text/plain": [
              "array([[7561.79541 ],\n",
              "       [7397.134277],\n",
              "       [7277.197754],\n",
              "       [7216.73877 ],\n",
              "       [7244.662109]])"
            ]
          },
          "metadata": {},
          "execution_count": 8
        }
      ]
    },
    {
      "cell_type": "code",
      "source": [
        "plt.plot(dataset)\n",
        "plt.show()"
      ],
      "metadata": {
        "colab": {
          "base_uri": "https://localhost:8080/",
          "height": 430
        },
        "id": "US4YEvc8Eaf5",
        "outputId": "e71cd3ef-b96b-4c6a-d871-cc09c0001b2d"
      },
      "execution_count": 9,
      "outputs": [
        {
          "output_type": "display_data",
          "data": {
            "text/plain": [
              "<Figure size 640x480 with 1 Axes>"
            ],
            "image/png": "[encoded data removed]"
          },
          "metadata": {}
        }
      ]
    },
    {
      "cell_type": "code",
      "source": [
        "scaler = MinMaxScaler(feature_range = (0,1))\n",
        "dataset = scaler.fit_transform(dataset)\n",
        "print(dataset[:5],'\\n')\n",
        "print(dataset.shape)"
      ],
      "metadata": {
        "colab": {
          "base_uri": "https://localhost:8080/"
        },
        "id": "flmnExc4Ec2N",
        "outputId": "dedc6cda-ff30-4b3a-f1b3-d30bc17a876a"
      },
      "execution_count": 10,
      "outputs": [
        {
          "output_type": "stream",
          "name": "stdout",
          "text": [
            "[[0.17491517]\n",
            " [0.16366105]\n",
            " [0.15546373]\n",
            " [0.15133153]\n",
            " [0.15324001]] \n",
            "\n",
            "(367, 1)\n"
          ]
        }
      ]
    },
    {
      "cell_type": "code",
      "source": [
        "# lookback -> timestep\n",
        "def create_dataset(dataset,look_back):\n",
        "    data_x, data_y = [],[] #data_x is data and data_y is label\n",
        "    for i in range(len(dataset)-look_back-1): #we want if data be beyond len(sequendatasetce), the command will not continue\n",
        "        data_x.append(dataset[i:(i+look_back),0])\n",
        "        data_y.append(dataset[i+look_back,0])\n",
        "    return np.array(data_x) , np.array(data_y)"
      ],
      "metadata": {
        "id": "55TGRQENEfTT"
      },
      "execution_count": 11,
      "outputs": []
    },
    {
      "cell_type": "code",
      "source": [
        "train_size = int(len(dataset) * 0.90)\n",
        "train , test = dataset[0:train_size,:] , dataset[train_size:len(dataset),:]\n",
        "print(train.shape)\n",
        "print(test.shape)"
      ],
      "metadata": {
        "colab": {
          "base_uri": "https://localhost:8080/"
        },
        "id": "DVom-kvIEig9",
        "outputId": "bf5dc274-a74e-4756-d223-51a585e370e9"
      },
      "execution_count": 12,
      "outputs": [
        {
          "output_type": "stream",
          "name": "stdout",
          "text": [
            "(330, 1)\n",
            "(37, 1)\n"
          ]
        }
      ]
    },
    {
      "cell_type": "code",
      "source": [
        "train[:3]"
      ],
      "metadata": {
        "colab": {
          "base_uri": "https://localhost:8080/"
        },
        "id": "ATmGIJt6Ekza",
        "outputId": "2dc36f56-1e50-444d-e43d-672fdd07ca0f"
      },
      "execution_count": 13,
      "outputs": [
        {
          "output_type": "execute_result",
          "data": {
            "text/plain": [
              "array([[0.17491517],\n",
              "       [0.16366105],\n",
              "       [0.15546373]])"
            ]
          },
          "metadata": {},
          "execution_count": 13
        }
      ]
    },
    {
      "cell_type": "code",
      "source": [
        "n_steps = 5 #timestep or look_up\n",
        "\n",
        "train_x , train_y = create_dataset(train, n_steps)\n",
        "test_x , test_y = create_dataset(test, n_steps)"
      ],
      "metadata": {
        "id": "jEvuZV_JEqa4"
      },
      "execution_count": 14,
      "outputs": []
    },
    {
      "cell_type": "code",
      "source": [
        "print(train_x.shape , train_y.shape)\n",
        "print(test_x.shape , test_y.shape)"
      ],
      "metadata": {
        "colab": {
          "base_uri": "https://localhost:8080/"
        },
        "id": "UPkR-wZwEtXb",
        "outputId": "63f61a10-f78d-498c-d2a0-b02466b35f78"
      },
      "execution_count": 15,
      "outputs": [
        {
          "output_type": "stream",
          "name": "stdout",
          "text": [
            "(324, 5) (324,)\n",
            "(31, 5) (31,)\n"
          ]
        }
      ]
    },
    {
      "cell_type": "code",
      "source": [
        "train_y[:3]"
      ],
      "metadata": {
        "colab": {
          "base_uri": "https://localhost:8080/"
        },
        "id": "v39C3i8EEwN9",
        "outputId": "b87b4bb1-c8e9-4a46-d39c-3dce256ee03f"
      },
      "execution_count": 16,
      "outputs": [
        {
          "output_type": "execute_result",
          "data": {
            "text/plain": [
              "array([0.1548968 , 0.14500949, 0.14702049])"
            ]
          },
          "metadata": {},
          "execution_count": 16
        }
      ]
    },
    {
      "cell_type": "code",
      "source": [
        "for i in range(len(test_x)):\n",
        "    print(test_x[i],test_y[i])\n",
        "\n",
        "# print(train_x[:5],'\\n')\n",
        "# print(train_y[:5])"
      ],
      "metadata": {
        "colab": {
          "base_uri": "https://localhost:8080/"
        },
        "id": "pHGBJRRkEyMX",
        "outputId": "a7d26f03-1760-4d32-dda7-580babc8bef8"
      },
      "execution_count": 17,
      "outputs": [
        {
          "output_type": "stream",
          "name": "stdout",
          "text": [
            "[0.58422262 0.61156401 0.62408829 0.72291798 0.72197147] 0.6719326887466186\n",
            "[0.61156401 0.62408829 0.72291798 0.72197147 0.67193269] 0.7160741246063909\n",
            "[0.62408829 0.72291798 0.72197147 0.67193269 0.71607412] 0.7060103428599764\n",
            "[0.72291798 0.72197147 0.67193269 0.71607412 0.70601034] 0.7031779415298287\n",
            "[0.72197147 0.67193269 0.71607412 0.70601034 0.70317794] 0.7312268978049619\n",
            "[0.67193269 0.71607412 0.70601034 0.70317794 0.7312269 ] 0.7705361779613369\n",
            "[0.71607412 0.70601034 0.70317794 0.7312269  0.77053618] 0.7733635734106943\n",
            "[0.70601034 0.70317794 0.7312269  0.77053618 0.77336357] 0.7562994164960621\n",
            "[0.70317794 0.7312269  0.77053618 0.77336357 0.75629942] 0.7486060922221522\n",
            "[0.7312269  0.77053618 0.77336357 0.75629942 0.74860609] 0.7985073092686736\n",
            "[0.77053618 0.77336357 0.75629942 0.74860609 0.79850731] 0.8640863843675424\n",
            "[0.77336357 0.75629942 0.74860609 0.79850731 0.86408638] 0.8749310187925237\n",
            "[0.75629942 0.74860609 0.79850731 0.86408638 0.87493102] 0.8758347494343481\n",
            "[0.74860609 0.79850731 0.86408638 0.87493102 0.87583475] 0.9308017305696097\n",
            "[0.79850731 0.86408638 0.87493102 0.87583475 0.93080173] 0.9322312803184716\n",
            "[0.86408638 0.87493102 0.87583475 0.93080173 0.93223128] 0.9136261758914752\n",
            "[0.87493102 0.87583475 0.93080173 0.93223128 0.91362618] 0.9132843067393879\n",
            "[0.87583475 0.93080173 0.93223128 0.91362618 0.91328431] 0.9638198038484467\n",
            "[0.93080173 0.93223128 0.91362618 0.91328431 0.9638198 ] 0.9382189965316621\n",
            "[0.93223128 0.91362618 0.91328431 0.9638198  0.938219  ] 0.8305089859611121\n",
            "[0.91362618 0.91328431 0.9638198  0.938219   0.83050899] 0.8277080883538812\n",
            "[0.91328431 0.9638198  0.938219   0.83050899 0.82770809] 0.8691743746708795\n",
            "[0.9638198  0.938219   0.83050899 0.82770809 0.86917437] 0.9005243507098712\n",
            "[0.938219   0.83050899 0.82770809 0.86917437 0.90052435] 1.0\n",
            "[0.83050899 0.82770809 0.86917437 0.90052435 1.        ] 0.9431334491558354\n",
            "[0.82770809 0.86917437 0.90052435 1.         0.94313345] 0.9707581058761525\n",
            "[0.86917437 0.90052435 1.         0.94313345 0.97075811] 0.9872325685026992\n",
            "[0.90052435 1.         0.94313345 0.97075811 0.98723257] 0.9360691320997676\n",
            "[1.         0.94313345 0.97075811 0.98723257 0.93606913] 0.9672214087225097\n",
            "[0.94313345 0.97075811 0.98723257 0.93606913 0.96722141] 0.9801355462494454\n",
            "[0.97075811 0.98723257 0.93606913 0.96722141 0.98013555] 0.9697741474546875\n"
          ]
        }
      ]
    },
    {
      "cell_type": "code",
      "source": [
        "trainxr = np.reshape(train_x,(train_x.shape[0],train_x.shape[1],1))\n",
        "testxr = np.reshape(test_x,(test_x.shape[0],test_x.shape[1],1))\n",
        "\n",
        "print(trainxr.shape)\n",
        "print(testxr.shape)"
      ],
      "metadata": {
        "colab": {
          "base_uri": "https://localhost:8080/"
        },
        "id": "2nBGtKKME0rd",
        "outputId": "8c1aa2c6-7e16-4b15-decd-f2aaf9b427ea"
      },
      "execution_count": 18,
      "outputs": [
        {
          "output_type": "stream",
          "name": "stdout",
          "text": [
            "(324, 5, 1)\n",
            "(31, 5, 1)\n"
          ]
        }
      ]
    },
    {
      "cell_type": "code",
      "source": [
        "train_x = trainxr\n",
        "test_x = testxr"
      ],
      "metadata": {
        "id": "CpFK9teyE3DO"
      },
      "execution_count": 19,
      "outputs": []
    },
    {
      "cell_type": "code",
      "source": [
        "'''\n",
        "from keras.optimizers import Adam\n",
        "learning_rate = 0.0001\n",
        "optimizer = Adam(learning_rate=learning_rate)\n",
        "'''"
      ],
      "metadata": {
        "colab": {
          "base_uri": "https://localhost:8080/",
          "height": 36
        },
        "id": "-9F1V3fmE5by",
        "outputId": "984b24e6-6ff5-4eb8-e3e5-776f127c2346"
      },
      "execution_count": 20,
      "outputs": [
        {
          "output_type": "execute_result",
          "data": {
            "text/plain": [
              "'\\nfrom keras.optimizers import Adam\\nlearning_rate = 0.0001\\noptimizer = Adam(learning_rate=learning_rate)\\n'"
            ],
            "application/vnd.google.colaboratory.intrinsic+json": {
              "type": "string"
            }
          },
          "metadata": {},
          "execution_count": 20
        }
      ]
    },
    {
      "cell_type": "code",
      "source": [
        "'''\n",
        "from keras.optimizers import Adam\n",
        "learning_rate = 0.0001\n",
        "optimizer = Adam(learning_rate=learning_rate)\n",
        "'''\n",
        "\n",
        "\n",
        "n_features = 1\n",
        "model = Sequential()\n",
        "model.add(LSTM(100, activation = 'relu', input_shape=(n_steps, n_features)))\n",
        "model.add(Dense(1)) #n-output\n",
        "model.compile(optimizer='adam',loss='mse')"
      ],
      "metadata": {
        "id": "4IdEtQx7E8dN"
      },
      "execution_count": 21,
      "outputs": []
    },
    {
      "cell_type": "code",
      "source": [
        "model.fit(train_x, train_y, epochs=50, shuffle=False, batch_size=2)"
      ],
      "metadata": {
        "colab": {
          "base_uri": "https://localhost:8080/"
        },
        "id": "SOso-vbeFCL6",
        "outputId": "0269ddbc-ca79-4c49-b76b-08b849ecbc97"
      },
      "execution_count": 22,
      "outputs": [
        {
          "output_type": "stream",
          "name": "stdout",
          "text": [
            "Epoch 1/50\n",
            "162/162 [==============================] - 2s 4ms/step - loss: 0.0061\n",
            "Epoch 2/50\n",
            "162/162 [==============================] - 1s 4ms/step - loss: 0.0053\n",
            "Epoch 3/50\n",
            "162/162 [==============================] - 1s 4ms/step - loss: 0.0036\n",
            "Epoch 4/50\n",
            "162/162 [==============================] - 1s 4ms/step - loss: 0.0025\n",
            "Epoch 5/50\n",
            "162/162 [==============================] - 1s 4ms/step - loss: 0.0020\n",
            "Epoch 6/50\n",
            "162/162 [==============================] - 1s 4ms/step - loss: 0.0018\n",
            "Epoch 7/50\n",
            "162/162 [==============================] - 1s 4ms/step - loss: 0.0016\n",
            "Epoch 8/50\n",
            "162/162 [==============================] - 1s 4ms/step - loss: 0.0016\n",
            "Epoch 9/50\n",
            "162/162 [==============================] - 1s 5ms/step - loss: 0.0015\n",
            "Epoch 10/50\n",
            "162/162 [==============================] - 1s 5ms/step - loss: 0.0014\n",
            "Epoch 11/50\n",
            "162/162 [==============================] - 1s 5ms/step - loss: 0.0014\n",
            "Epoch 12/50\n",
            "162/162 [==============================] - 1s 4ms/step - loss: 0.0013\n",
            "Epoch 13/50\n",
            "162/162 [==============================] - 1s 4ms/step - loss: 0.0012\n",
            "Epoch 14/50\n",
            "162/162 [==============================] - 1s 4ms/step - loss: 0.0012\n",
            "Epoch 15/50\n",
            "162/162 [==============================] - 1s 4ms/step - loss: 0.0011\n",
            "Epoch 16/50\n",
            "162/162 [==============================] - 1s 4ms/step - loss: 0.0011\n",
            "Epoch 17/50\n",
            "162/162 [==============================] - 1s 4ms/step - loss: 0.0010\n",
            "Epoch 18/50\n",
            "162/162 [==============================] - 1s 4ms/step - loss: 9.8523e-04\n",
            "Epoch 19/50\n",
            "162/162 [==============================] - 1s 4ms/step - loss: 9.8093e-04\n",
            "Epoch 20/50\n",
            "162/162 [==============================] - 1s 4ms/step - loss: 9.6418e-04\n",
            "Epoch 21/50\n",
            "162/162 [==============================] - 1s 4ms/step - loss: 9.4808e-04\n",
            "Epoch 22/50\n",
            "162/162 [==============================] - 1s 4ms/step - loss: 9.1903e-04\n",
            "Epoch 23/50\n",
            "162/162 [==============================] - 1s 4ms/step - loss: 9.0023e-04\n",
            "Epoch 24/50\n",
            "162/162 [==============================] - 1s 4ms/step - loss: 8.9031e-04\n",
            "Epoch 25/50\n",
            "162/162 [==============================] - 1s 4ms/step - loss: 8.1061e-04\n",
            "Epoch 26/50\n",
            "162/162 [==============================] - 1s 4ms/step - loss: 8.8636e-04\n",
            "Epoch 27/50\n",
            "162/162 [==============================] - 1s 4ms/step - loss: 8.5624e-04\n",
            "Epoch 28/50\n",
            "162/162 [==============================] - 1s 4ms/step - loss: 7.2778e-04\n",
            "Epoch 29/50\n",
            "162/162 [==============================] - 1s 5ms/step - loss: 8.7811e-04\n",
            "Epoch 30/50\n",
            "162/162 [==============================] - 1s 4ms/step - loss: 9.8394e-04\n",
            "Epoch 31/50\n",
            "162/162 [==============================] - 1s 5ms/step - loss: 9.3574e-04\n",
            "Epoch 32/50\n",
            "162/162 [==============================] - 1s 4ms/step - loss: 8.1204e-04\n",
            "Epoch 33/50\n",
            "162/162 [==============================] - 1s 4ms/step - loss: 7.7027e-04\n",
            "Epoch 34/50\n",
            "162/162 [==============================] - 1s 3ms/step - loss: 7.5895e-04\n",
            "Epoch 35/50\n",
            "162/162 [==============================] - 1s 3ms/step - loss: 7.4576e-04\n",
            "Epoch 36/50\n",
            "162/162 [==============================] - 1s 4ms/step - loss: 7.2297e-04\n",
            "Epoch 37/50\n",
            "162/162 [==============================] - 1s 3ms/step - loss: 7.0515e-04\n",
            "Epoch 38/50\n",
            "162/162 [==============================] - 1s 4ms/step - loss: 6.8577e-04\n",
            "Epoch 39/50\n",
            "162/162 [==============================] - 1s 3ms/step - loss: 6.7341e-04\n",
            "Epoch 40/50\n",
            "162/162 [==============================] - 1s 4ms/step - loss: 6.6292e-04\n",
            "Epoch 41/50\n",
            "162/162 [==============================] - 1s 3ms/step - loss: 6.5805e-04\n",
            "Epoch 42/50\n",
            "162/162 [==============================] - 1s 4ms/step - loss: 6.5237e-04\n",
            "Epoch 43/50\n",
            "162/162 [==============================] - 1s 4ms/step - loss: 6.5447e-04\n",
            "Epoch 44/50\n",
            "162/162 [==============================] - 1s 4ms/step - loss: 6.4932e-04\n",
            "Epoch 45/50\n",
            "162/162 [==============================] - 1s 4ms/step - loss: 6.4619e-04\n",
            "Epoch 46/50\n",
            "162/162 [==============================] - 1s 4ms/step - loss: 6.4453e-04\n",
            "Epoch 47/50\n",
            "162/162 [==============================] - 1s 4ms/step - loss: 6.4191e-04\n",
            "Epoch 48/50\n",
            "162/162 [==============================] - 1s 4ms/step - loss: 6.3939e-04\n",
            "Epoch 49/50\n",
            "162/162 [==============================] - 1s 4ms/step - loss: 6.3734e-04\n",
            "Epoch 50/50\n",
            "162/162 [==============================] - 1s 5ms/step - loss: 6.3322e-04\n"
          ]
        },
        {
          "output_type": "execute_result",
          "data": {
            "text/plain": [
              "<keras.callbacks.History at 0x7bcf68994580>"
            ]
          },
          "metadata": {},
          "execution_count": 22
        }
      ]
    },
    {
      "cell_type": "code",
      "source": [
        "model.save('/content/drive/MyDrive/savedata')"
      ],
      "metadata": {
        "colab": {
          "base_uri": "https://localhost:8080/"
        },
        "id": "orXUIl6SFFNm",
        "outputId": "6d656e0a-d39f-44b4-875c-6fc5fad50408"
      },
      "execution_count": 23,
      "outputs": [
        {
          "output_type": "stream",
          "name": "stderr",
          "text": [
            "WARNING:absl:Found untraced functions such as _update_step_xla while saving (showing 1 of 1). These functions will not be directly callable after loading.\n"
          ]
        }
      ]
    },
    {
      "cell_type": "code",
      "source": [
        "new_model = tf.keras.models.load_model('/content/drive/MyDrive/savedata')"
      ],
      "metadata": {
        "id": "79b9fm8JFSLc"
      },
      "execution_count": 24,
      "outputs": []
    },
    {
      "cell_type": "code",
      "source": [
        "predict_train = new_model.predict(train_x)\n",
        "predict_test = new_model.predict(test_x)\n",
        "print('predicted y(train):', np.reshape(predict_train[:5],-1))\n",
        "print('real y(train):', train_y[:5])"
      ],
      "metadata": {
        "colab": {
          "base_uri": "https://localhost:8080/"
        },
        "id": "vqRI6yZ7FY6o",
        "outputId": "dc79c9d5-4c5e-4f78-c98e-3befe57c9850"
      },
      "execution_count": 25,
      "outputs": [
        {
          "output_type": "stream",
          "name": "stdout",
          "text": [
            "11/11 [==============================] - 0s 3ms/step\n",
            "1/1 [==============================] - 0s 24ms/step\n",
            "predicted y(train): [0.19940159 0.20128256 0.19417757 0.19367597 0.18300422]\n",
            "real y(train): [0.1548968  0.14500949 0.14702049 0.13182367 0.11243925]\n"
          ]
        }
      ]
    },
    {
      "cell_type": "code",
      "source": [
        "predict_train = scaler.inverse_transform(predict_train)\n",
        "trainy = scaler.inverse_transform([train_y])\n",
        "\n",
        "predict_test = scaler.inverse_transform(predict_test)\n",
        "testy = scaler.inverse_transform([test_y])"
      ],
      "metadata": {
        "id": "baNNTqB0FbUV"
      },
      "execution_count": 26,
      "outputs": []
    },
    {
      "cell_type": "code",
      "source": [
        "print(predict_train[:5])"
      ],
      "metadata": {
        "colab": {
          "base_uri": "https://localhost:8080/"
        },
        "id": "a73UA530Fds2",
        "outputId": "71aaeb4e-9d03-4eab-dbf8-ebdd5942be09"
      },
      "execution_count": 27,
      "outputs": [
        {
          "output_type": "stream",
          "name": "stdout",
          "text": [
            "[[7920.061 ]\n",
            " [7947.5815]\n",
            " [7843.627 ]\n",
            " [7836.288 ]\n",
            " [7680.148 ]]\n"
          ]
        }
      ]
    },
    {
      "cell_type": "code",
      "source": [
        "Answer1 = pd.DataFrame({\n",
        "    \"Predicted\": predict_train.ravel(),\n",
        "    \"real\": trainy.ravel()\n",
        "})\n",
        "Answer1.head()"
      ],
      "metadata": {
        "colab": {
          "base_uri": "https://localhost:8080/",
          "height": 206
        },
        "id": "4gfhNTa-FgEl",
        "outputId": "42acac01-d154-4522-859f-b1ee14da81bc"
      },
      "execution_count": 28,
      "outputs": [
        {
          "output_type": "execute_result",
          "data": {
            "text/plain": [
              "     Predicted         real\n",
              "0  7920.061035  7268.902832\n",
              "1  7947.581543  7124.239746\n",
              "2  7843.626953  7153.663086\n",
              "3  7836.288086  6931.315430\n",
              "4  7680.147949  6647.698242"
            ],
            "text/html": [
              "\n",
              "  <div id=\"df-906c050e-4910-4fbd-8bc2-86ccb0bc79e3\" class=\"colab-df-container\">\n",
              "    <div>\n",
              "<style scoped>\n",
              "    .dataframe tbody tr th:only-of-type {\n",
              "        vertical-align: middle;\n",
              "    }\n",
              "\n",
              "    .dataframe tbody tr th {\n",
              "        vertical-align: top;\n",
              "    }\n",
              "\n",
              "    .dataframe thead th {\n",
              "        text-align: right;\n",
              "    }\n",
              "</style>\n",
              "<table border=\"1\" class=\"dataframe\">\n",
              "  <thead>\n",
              "    <tr style=\"text-align: right;\">\n",
              "      <th></th>\n",
              "      <th>Predicted</th>\n",
              "      <th>real</th>\n",
              "    </tr>\n",
              "  </thead>\n",
              "  <tbody>\n",
              "    <tr>\n",
              "      <th>0</th>\n",
              "      <td>7920.061035</td>\n",
              "      <td>7268.902832</td>\n",
              "    </tr>\n",
              "    <tr>\n",
              "      <th>1</th>\n",
              "      <td>7947.581543</td>\n",
              "      <td>7124.239746</td>\n",
              "    </tr>\n",
              "    <tr>\n",
              "      <th>2</th>\n",
              "      <td>7843.626953</td>\n",
              "      <td>7153.663086</td>\n",
              "    </tr>\n",
              "    <tr>\n",
              "      <th>3</th>\n",
              "      <td>7836.288086</td>\n",
              "      <td>6931.315430</td>\n",
              "    </tr>\n",
              "    <tr>\n",
              "      <th>4</th>\n",
              "      <td>7680.147949</td>\n",
              "      <td>6647.698242</td>\n",
              "    </tr>\n",
              "  </tbody>\n",
              "</table>\n",
              "</div>\n",
              "    <div class=\"colab-df-buttons\">\n",
              "\n",
              "  <div class=\"colab-df-container\">\n",
              "    <button class=\"colab-df-convert\" onclick=\"convertToInteractive('df-906c050e-4910-4fbd-8bc2-86ccb0bc79e3')\"\n",
              "            title=\"Convert this dataframe to an interactive table.\"\n",
              "            style=\"display:none;\">\n",
              "\n",
              "  <svg xmlns=\"http://www.w3.org/2000/svg\" height=\"24px\" viewBox=\"0 -960 960 960\">\n",
              "    <path d=\"M120-120v-720h720v720H120Zm60-500h600v-160H180v160Zm220 220h160v-160H400v160Zm0 220h160v-160H400v160ZM180-400h160v-160H180v160Zm440 0h160v-160H620v160ZM180-180h160v-160H180v160Zm440 0h160v-160H620v160Z\"/>\n",
              "  </svg>\n",
              "    </button>\n",
              "\n",
              "  <style>\n",
              "    .colab-df-container {\n",
              "      display:flex;\n",
              "      gap: 12px;\n",
              "    }\n",
              "\n",
              "    .colab-df-convert {\n",
              "      background-color: #E8F0FE;\n",
              "      border: none;\n",
              "      border-radius: 50%;\n",
              "      cursor: pointer;\n",
              "      display: none;\n",
              "      fill: #1967D2;\n",
              "      height: 32px;\n",
              "      padding: 0 0 0 0;\n",
              "      width: 32px;\n",
              "    }\n",
              "\n",
              "    .colab-df-convert:hover {\n",
              "      background-color: #E2EBFA;\n",
              "      box-shadow: 0px 1px 2px rgba(60, 64, 67, 0.3), 0px 1px 3px 1px rgba(60, 64, 67, 0.15);\n",
              "      fill: #174EA6;\n",
              "    }\n",
              "\n",
              "    .colab-df-buttons div {\n",
              "      margin-bottom: 4px;\n",
              "    }\n",
              "\n",
              "    [theme=dark] .colab-df-convert {\n",
              "      background-color: #3B4455;\n",
              "      fill: #D2E3FC;\n",
              "    }\n",
              "\n",
              "    [theme=dark] .colab-df-convert:hover {\n",
              "      background-color: #434B5C;\n",
              "      box-shadow: 0px 1px 3px 1px rgba(0, 0, 0, 0.15);\n",
              "      filter: drop-shadow(0px 1px 2px rgba(0, 0, 0, 0.3));\n",
              "      fill: #FFFFFF;\n",
              "    }\n",
              "  </style>\n",
              "\n",
              "    <script>\n",
              "      const buttonEl =\n",
              "        document.querySelector('#df-906c050e-4910-4fbd-8bc2-86ccb0bc79e3 button.colab-df-convert');\n",
              "      buttonEl.style.display =\n",
              "        google.colab.kernel.accessAllowed ? 'block' : 'none';\n",
              "\n",
              "      async function convertToInteractive(key) {\n",
              "        const element = document.querySelector('#df-906c050e-4910-4fbd-8bc2-86ccb0bc79e3');\n",
              "        const dataTable =\n",
              "          await google.colab.kernel.invokeFunction('convertToInteractive',\n",
              "                                                    [key], {});\n",
              "        if (!dataTable) return;\n",
              "\n",
              "        const docLinkHtml = 'Like what you see? Visit the ' +\n",
              "          '<a target=\"_blank\" href=https://colab.research.google.com/notebooks/data_table.ipynb>data table notebook</a>'\n",
              "          + ' to learn more about interactive tables.';\n",
              "        element.innerHTML = '';\n",
              "        dataTable['output_type'] = 'display_data';\n",
              "        await google.colab.output.renderOutput(dataTable, element);\n",
              "        const docLink = document.createElement('div');\n",
              "        docLink.innerHTML = docLinkHtml;\n",
              "        element.appendChild(docLink);\n",
              "      }\n",
              "    </script>\n",
              "  </div>\n",
              "\n",
              "\n",
              "<div id=\"df-ca5fb447-40ff-428d-8767-9c9d1642694d\">\n",
              "  <button class=\"colab-df-quickchart\" onclick=\"quickchart('df-ca5fb447-40ff-428d-8767-9c9d1642694d')\"\n",
              "            title=\"Suggest charts.\"\n",
              "            style=\"display:none;\">\n",
              "\n",
              "<svg xmlns=\"http://www.w3.org/2000/svg\" height=\"24px\"viewBox=\"0 0 24 24\"\n",
              "     width=\"24px\">\n",
              "    <g>\n",
              "        <path d=\"M19 3H5c-1.1 0-2 .9-2 2v14c0 1.1.9 2 2 2h14c1.1 0 2-.9 2-2V5c0-1.1-.9-2-2-2zM9 17H7v-7h2v7zm4 0h-2V7h2v10zm4 0h-2v-4h2v4z\"/>\n",
              "    </g>\n",
              "</svg>\n",
              "  </button>\n",
              "\n",
              "<style>\n",
              "  .colab-df-quickchart {\n",
              "    background-color: #E8F0FE;\n",
              "    border: none;\n",
              "    border-radius: 50%;\n",
              "    cursor: pointer;\n",
              "    display: none;\n",
              "    fill: #1967D2;\n",
              "    height: 32px;\n",
              "    padding: 0 0 0 0;\n",
              "    width: 32px;\n",
              "  }\n",
              "\n",
              "  .colab-df-quickchart:hover {\n",
              "    background-color: #E2EBFA;\n",
              "    box-shadow: 0px 1px 2px rgba(60, 64, 67, 0.3), 0px 1px 3px 1px rgba(60, 64, 67, 0.15);\n",
              "    fill: #174EA6;\n",
              "  }\n",
              "\n",
              "  [theme=dark] .colab-df-quickchart {\n",
              "    background-color: #3B4455;\n",
              "    fill: #D2E3FC;\n",
              "  }\n",
              "\n",
              "  [theme=dark] .colab-df-quickchart:hover {\n",
              "    background-color: #434B5C;\n",
              "    box-shadow: 0px 1px 3px 1px rgba(0, 0, 0, 0.15);\n",
              "    filter: drop-shadow(0px 1px 2px rgba(0, 0, 0, 0.3));\n",
              "    fill: #FFFFFF;\n",
              "  }\n",
              "</style>\n",
              "\n",
              "  <script>\n",
              "    async function quickchart(key) {\n",
              "      const charts = await google.colab.kernel.invokeFunction(\n",
              "          'suggestCharts', [key], {});\n",
              "    }\n",
              "    (() => {\n",
              "      let quickchartButtonEl =\n",
              "        document.querySelector('#df-ca5fb447-40ff-428d-8767-9c9d1642694d button');\n",
              "      quickchartButtonEl.style.display =\n",
              "        google.colab.kernel.accessAllowed ? 'block' : 'none';\n",
              "    })();\n",
              "  </script>\n",
              "</div>\n",
              "    </div>\n",
              "  </div>\n"
            ]
          },
          "metadata": {},
          "execution_count": 28
        }
      ]
    },
    {
      "cell_type": "code",
      "source": [
        "Answer1.plot(title=\"outcome\", figsize=(10,5));"
      ],
      "metadata": {
        "colab": {
          "base_uri": "https://localhost:8080/",
          "height": 468
        },
        "id": "eBzOEVtHFifD",
        "outputId": "3b11394a-9f5e-41ac-ea06-d962ef342a39"
      },
      "execution_count": 29,
      "outputs": [
        {
          "output_type": "display_data",
          "data": {
            "text/plain": [
              "<Figure size 1000x500 with 1 Axes>"
            ],
            "image/png": "[encoded data removed]"
          },
          "metadata": {}
        }
      ]
    },
    {
      "cell_type": "code",
      "source": [
        "Answer2 = pd.DataFrame({\n",
        "    \"Predicted\": predict_test.ravel(),\n",
        "    \"real\": testy.ravel()\n",
        "})\n",
        "Answer2.head()"
      ],
      "metadata": {
        "colab": {
          "base_uri": "https://localhost:8080/",
          "height": 206
        },
        "id": "71h4uoB6FlzC",
        "outputId": "abc2b072-3bbc-441f-d27c-8c808ae8e3c6"
      },
      "execution_count": 30,
      "outputs": [
        {
          "output_type": "execute_result",
          "data": {
            "text/plain": [
              "      Predicted          real\n",
              "0  15663.027344  14833.753906\n",
              "1  14657.938477  15479.595703\n",
              "2  15303.406250  15332.350586\n",
              "3  15079.187500  15290.909180\n",
              "4  15059.647461  15701.298828"
            ],
            "text/html": [
              "\n",
              "  <div id=\"df-dc94537b-9ea0-4350-9220-322325dfec36\" class=\"colab-df-container\">\n",
              "    <div>\n",
              "<style scoped>\n",
              "    .dataframe tbody tr th:only-of-type {\n",
              "        vertical-align: middle;\n",
              "    }\n",
              "\n",
              "    .dataframe tbody tr th {\n",
              "        vertical-align: top;\n",
              "    }\n",
              "\n",
              "    .dataframe thead th {\n",
              "        text-align: right;\n",
              "    }\n",
              "</style>\n",
              "<table border=\"1\" class=\"dataframe\">\n",
              "  <thead>\n",
              "    <tr style=\"text-align: right;\">\n",
              "      <th></th>\n",
              "      <th>Predicted</th>\n",
              "      <th>real</th>\n",
              "    </tr>\n",
              "  </thead>\n",
              "  <tbody>\n",
              "    <tr>\n",
              "      <th>0</th>\n",
              "      <td>15663.027344</td>\n",
              "      <td>14833.753906</td>\n",
              "    </tr>\n",
              "    <tr>\n",
              "      <th>1</th>\n",
              "      <td>14657.938477</td>\n",
              "      <td>15479.595703</td>\n",
              "    </tr>\n",
              "    <tr>\n",
              "      <th>2</th>\n",
              "      <td>15303.406250</td>\n",
              "      <td>15332.350586</td>\n",
              "    </tr>\n",
              "    <tr>\n",
              "      <th>3</th>\n",
              "      <td>15079.187500</td>\n",
              "      <td>15290.909180</td>\n",
              "    </tr>\n",
              "    <tr>\n",
              "      <th>4</th>\n",
              "      <td>15059.647461</td>\n",
              "      <td>15701.298828</td>\n",
              "    </tr>\n",
              "  </tbody>\n",
              "</table>\n",
              "</div>\n",
              "    <div class=\"colab-df-buttons\">\n",
              "\n",
              "  <div class=\"colab-df-container\">\n",
              "    <button class=\"colab-df-convert\" onclick=\"convertToInteractive('df-dc94537b-9ea0-4350-9220-322325dfec36')\"\n",
              "            title=\"Convert this dataframe to an interactive table.\"\n",
              "            style=\"display:none;\">\n",
              "\n",
              "  <svg xmlns=\"http://www.w3.org/2000/svg\" height=\"24px\" viewBox=\"0 -960 960 960\">\n",
              "    <path d=\"M120-120v-720h720v720H120Zm60-500h600v-160H180v160Zm220 220h160v-160H400v160Zm0 220h160v-160H400v160ZM180-400h160v-160H180v160Zm440 0h160v-160H620v160ZM180-180h160v-160H180v160Zm440 0h160v-160H620v160Z\"/>\n",
              "  </svg>\n",
              "    </button>\n",
              "\n",
              "  <style>\n",
              "    .colab-df-container {\n",
              "      display:flex;\n",
              "      gap: 12px;\n",
              "    }\n",
              "\n",
              "    .colab-df-convert {\n",
              "      background-color: #E8F0FE;\n",
              "      border: none;\n",
              "      border-radius: 50%;\n",
              "      cursor: pointer;\n",
              "      display: none;\n",
              "      fill: #1967D2;\n",
              "      height: 32px;\n",
              "      padding: 0 0 0 0;\n",
              "      width: 32px;\n",
              "    }\n",
              "\n",
              "    .colab-df-convert:hover {\n",
              "      background-color: #E2EBFA;\n",
              "      box-shadow: 0px 1px 2px rgba(60, 64, 67, 0.3), 0px 1px 3px 1px rgba(60, 64, 67, 0.15);\n",
              "      fill: #174EA6;\n",
              "    }\n",
              "\n",
              "    .colab-df-buttons div {\n",
              "      margin-bottom: 4px;\n",
              "    }\n",
              "\n",
              "    [theme=dark] .colab-df-convert {\n",
              "      background-color: #3B4455;\n",
              "      fill: #D2E3FC;\n",
              "    }\n",
              "\n",
              "    [theme=dark] .colab-df-convert:hover {\n",
              "      background-color: #434B5C;\n",
              "      box-shadow: 0px 1px 3px 1px rgba(0, 0, 0, 0.15);\n",
              "      filter: drop-shadow(0px 1px 2px rgba(0, 0, 0, 0.3));\n",
              "      fill: #FFFFFF;\n",
              "    }\n",
              "  </style>\n",
              "\n",
              "    <script>\n",
              "      const buttonEl =\n",
              "        document.querySelector('#df-dc94537b-9ea0-4350-9220-322325dfec36 button.colab-df-convert');\n",
              "      buttonEl.style.display =\n",
              "        google.colab.kernel.accessAllowed ? 'block' : 'none';\n",
              "\n",
              "      async function convertToInteractive(key) {\n",
              "        const element = document.querySelector('#df-dc94537b-9ea0-4350-9220-322325dfec36');\n",
              "        const dataTable =\n",
              "          await google.colab.kernel.invokeFunction('convertToInteractive',\n",
              "                                                    [key], {});\n",
              "        if (!dataTable) return;\n",
              "\n",
              "        const docLinkHtml = 'Like what you see? Visit the ' +\n",
              "          '<a target=\"_blank\" href=https://colab.research.google.com/notebooks/data_table.ipynb>data table notebook</a>'\n",
              "          + ' to learn more about interactive tables.';\n",
              "        element.innerHTML = '';\n",
              "        dataTable['output_type'] = 'display_data';\n",
              "        await google.colab.output.renderOutput(dataTable, element);\n",
              "        const docLink = document.createElement('div');\n",
              "        docLink.innerHTML = docLinkHtml;\n",
              "        element.appendChild(docLink);\n",
              "      }\n",
              "    </script>\n",
              "  </div>\n",
              "\n",
              "\n",
              "<div id=\"df-63fc4258-d264-4a47-937e-788eece51af5\">\n",
              "  <button class=\"colab-df-quickchart\" onclick=\"quickchart('df-63fc4258-d264-4a47-937e-788eece51af5')\"\n",
              "            title=\"Suggest charts.\"\n",
              "            style=\"display:none;\">\n",
              "\n",
              "<svg xmlns=\"http://www.w3.org/2000/svg\" height=\"24px\"viewBox=\"0 0 24 24\"\n",
              "     width=\"24px\">\n",
              "    <g>\n",
              "        <path d=\"M19 3H5c-1.1 0-2 .9-2 2v14c0 1.1.9 2 2 2h14c1.1 0 2-.9 2-2V5c0-1.1-.9-2-2-2zM9 17H7v-7h2v7zm4 0h-2V7h2v10zm4 0h-2v-4h2v4z\"/>\n",
              "    </g>\n",
              "</svg>\n",
              "  </button>\n",
              "\n",
              "<style>\n",
              "  .colab-df-quickchart {\n",
              "    background-color: #E8F0FE;\n",
              "    border: none;\n",
              "    border-radius: 50%;\n",
              "    cursor: pointer;\n",
              "    display: none;\n",
              "    fill: #1967D2;\n",
              "    height: 32px;\n",
              "    padding: 0 0 0 0;\n",
              "    width: 32px;\n",
              "  }\n",
              "\n",
              "  .colab-df-quickchart:hover {\n",
              "    background-color: #E2EBFA;\n",
              "    box-shadow: 0px 1px 2px rgba(60, 64, 67, 0.3), 0px 1px 3px 1px rgba(60, 64, 67, 0.15);\n",
              "    fill: #174EA6;\n",
              "  }\n",
              "\n",
              "  [theme=dark] .colab-df-quickchart {\n",
              "    background-color: #3B4455;\n",
              "    fill: #D2E3FC;\n",
              "  }\n",
              "\n",
              "  [theme=dark] .colab-df-quickchart:hover {\n",
              "    background-color: #434B5C;\n",
              "    box-shadow: 0px 1px 3px 1px rgba(0, 0, 0, 0.15);\n",
              "    filter: drop-shadow(0px 1px 2px rgba(0, 0, 0, 0.3));\n",
              "    fill: #FFFFFF;\n",
              "  }\n",
              "</style>\n",
              "\n",
              "  <script>\n",
              "    async function quickchart(key) {\n",
              "      const charts = await google.colab.kernel.invokeFunction(\n",
              "          'suggestCharts', [key], {});\n",
              "    }\n",
              "    (() => {\n",
              "      let quickchartButtonEl =\n",
              "        document.querySelector('#df-63fc4258-d264-4a47-937e-788eece51af5 button');\n",
              "      quickchartButtonEl.style.display =\n",
              "        google.colab.kernel.accessAllowed ? 'block' : 'none';\n",
              "    })();\n",
              "  </script>\n",
              "</div>\n",
              "    </div>\n",
              "  </div>\n"
            ]
          },
          "metadata": {},
          "execution_count": 30
        }
      ]
    },
    {
      "cell_type": "code",
      "source": [
        "#test\n",
        "Answer2.plot(title=\"outcome\", figsize=(10,5));"
      ],
      "metadata": {
        "colab": {
          "base_uri": "https://localhost:8080/",
          "height": 468
        },
        "id": "ZT-5IOzmFpgk",
        "outputId": "ef2786e1-7687-4b8b-f11e-aec7119e2f24"
      },
      "execution_count": 31,
      "outputs": [
        {
          "output_type": "display_data",
          "data": {
            "text/plain": [
              "<Figure size 1000x500 with 1 Axes>"
            ],
            "image/png": "[encoded data removed]"
          },
          "metadata": {}
        }
      ]
    },
    {
      "cell_type": "code",
      "source": [
        "model.evaluate(test_x, test_y)"
      ],
      "metadata": {
        "colab": {
          "base_uri": "https://localhost:8080/"
        },
        "id": "NRgnftLMFwPG",
        "outputId": "4aa2248b-4e9f-4bab-ab17-e522c09ed638"
      },
      "execution_count": 32,
      "outputs": [
        {
          "output_type": "stream",
          "name": "stdout",
          "text": [
            "1/1 [==============================] - 0s 263ms/step - loss: 0.0046\n"
          ]
        },
        {
          "output_type": "execute_result",
          "data": {
            "text/plain": [
              "0.004645112901926041"
            ]
          },
          "metadata": {},
          "execution_count": 32
        }
      ]
    },
    {
      "cell_type": "code",
      "source": [
        "train_score = math.sqrt(mean_squared_error(trainy.reshape(-1),predict_train))\n",
        "print('rmse ', train_score)\n",
        "test_score = math.sqrt(mean_squared_error(test_y.reshape(-1),predict_test))\n",
        "print('rmse ', test_score)"
      ],
      "metadata": {
        "colab": {
          "base_uri": "https://localhost:8080/"
        },
        "id": "uxTB2L0EFyrQ",
        "outputId": "c0196c63-afa7-488d-f191-88545eb9aadf"
      },
      "execution_count": 33,
      "outputs": [
        {
          "output_type": "stream",
          "name": "stdout",
          "text": [
            "rmse  613.740437905224\n",
            "rmse  16971.896170034302\n"
          ]
        }
      ]
    },
    {
      "cell_type": "code",
      "source": [
        "test_x.shape , test_y.shape"
      ],
      "metadata": {
        "colab": {
          "base_uri": "https://localhost:8080/"
        },
        "id": "tNHvAkb1F09u",
        "outputId": "fe77e2f4-342b-43ba-8ab7-4e47947c99c5"
      },
      "execution_count": 34,
      "outputs": [
        {
          "output_type": "execute_result",
          "data": {
            "text/plain": [
              "((31, 5, 1), (31,))"
            ]
          },
          "metadata": {},
          "execution_count": 34
        }
      ]
    },
    {
      "cell_type": "code",
      "source": [
        "test_ = array([0.0272989,  0.03199121, 0.03083671, 0.02082067, 0.03542986])\n",
        "test_ = test_.reshape(1,n_steps,n_features)\n",
        "test_.shape\n"
      ],
      "metadata": {
        "colab": {
          "base_uri": "https://localhost:8080/"
        },
        "id": "-c9adakoF3UM",
        "outputId": "b9a29b84-e5e1-4a79-b72f-0a8192d37df8"
      },
      "execution_count": 35,
      "outputs": [
        {
          "output_type": "execute_result",
          "data": {
            "text/plain": [
              "(1, 5, 1)"
            ]
          },
          "metadata": {},
          "execution_count": 35
        }
      ]
    },
    {
      "cell_type": "code",
      "source": [
        "y_hat = model.predict(test_)\n",
        "y_hat"
      ],
      "metadata": {
        "colab": {
          "base_uri": "https://localhost:8080/"
        },
        "id": "jDeg50g6F6Pm",
        "outputId": "63277e24-e25b-42bc-ea75-1a368ea4d699"
      },
      "execution_count": 36,
      "outputs": [
        {
          "output_type": "stream",
          "name": "stdout",
          "text": [
            "1/1 [==============================] - 0s 177ms/step\n"
          ]
        },
        {
          "output_type": "execute_result",
          "data": {
            "text/plain": [
              "array([[0.09000726]], dtype=float32)"
            ]
          },
          "metadata": {},
          "execution_count": 36
        }
      ]
    },
    {
      "cell_type": "code",
      "source": [
        "y_hat = scaler.inverse_transform(y_hat)\n",
        "y_hat"
      ],
      "metadata": {
        "colab": {
          "base_uri": "https://localhost:8080/"
        },
        "id": "CRYBYH4uF82v",
        "outputId": "9fc946fe-00b3-4aed-be04-c7d5d0095ed3"
      },
      "execution_count": 37,
      "outputs": [
        {
          "output_type": "execute_result",
          "data": {
            "text/plain": [
              "array([[6319.491]], dtype=float32)"
            ]
          },
          "metadata": {},
          "execution_count": 37
        }
      ]
    }
  ]
}